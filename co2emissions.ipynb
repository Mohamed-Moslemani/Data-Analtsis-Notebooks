{
 "cells": [
  {
   "cell_type": "markdown",
   "metadata": {},
   "source": [
    "## CO2 Emissions - Analysis - Dataset: https://www.kaggle.com/datasets/ulrikthygepedersen/co2-emissions-by-country"
   ]
  },
  {
   "cell_type": "code",
   "execution_count": 83,
   "metadata": {},
   "outputs": [],
   "source": [
    "import pandas as pd \n",
    "import matplotlib.pyplot as plt \n",
    "import numpy as np \n",
    "import seaborn as sns \n",
    "import plotly \n",
    "import kagglehub\n",
    "import os \n",
    "from typing import Optional, Callable\n",
    "sns.set_style(\"whitegrid\")"
   ]
  },
  {
   "cell_type": "markdown",
   "metadata": {},
   "source": [
    "#### Downloading the dataset"
   ]
  },
  {
   "cell_type": "code",
   "execution_count": 84,
   "metadata": {},
   "outputs": [
    {
     "name": "stdout",
     "output_type": "stream",
     "text": [
      "Warning: Looks like you're using an outdated `kagglehub` version, please consider updating (latest version: 0.3.6)\n",
      "Path to dataset files: C:\\Users\\HP\\.cache\\kagglehub\\datasets\\ulrikthygepedersen\\co2-emissions-by-country\\versions\\1\n"
     ]
    }
   ],
   "source": [
    "path = kagglehub.dataset_download(\"ulrikthygepedersen/co2-emissions-by-country\")\n",
    "\n",
    "print(\"Path to dataset files:\", path)"
   ]
  },
  {
   "cell_type": "code",
   "execution_count": 85,
   "metadata": {},
   "outputs": [],
   "source": [
    "dir_files = os.listdir(path)"
   ]
  },
  {
   "cell_type": "code",
   "execution_count": 86,
   "metadata": {},
   "outputs": [],
   "source": [
    "df = pd.read_csv(os.path.join(path,dir_files[0]))"
   ]
  },
  {
   "cell_type": "markdown",
   "metadata": {},
   "source": [
    "#### EDA"
   ]
  },
  {
   "cell_type": "code",
   "execution_count": 87,
   "metadata": {},
   "outputs": [
    {
     "data": {
      "text/html": [
       "<div>\n",
       "<style scoped>\n",
       "    .dataframe tbody tr th:only-of-type {\n",
       "        vertical-align: middle;\n",
       "    }\n",
       "\n",
       "    .dataframe tbody tr th {\n",
       "        vertical-align: top;\n",
       "    }\n",
       "\n",
       "    .dataframe thead th {\n",
       "        text-align: right;\n",
       "    }\n",
       "</style>\n",
       "<table border=\"1\" class=\"dataframe\">\n",
       "  <thead>\n",
       "    <tr style=\"text-align: right;\">\n",
       "      <th></th>\n",
       "      <th>country_code</th>\n",
       "      <th>country_name</th>\n",
       "      <th>year</th>\n",
       "      <th>value</th>\n",
       "    </tr>\n",
       "  </thead>\n",
       "  <tbody>\n",
       "    <tr>\n",
       "      <th>0</th>\n",
       "      <td>ABW</td>\n",
       "      <td>Aruba</td>\n",
       "      <td>1960</td>\n",
       "      <td>11092.675</td>\n",
       "    </tr>\n",
       "    <tr>\n",
       "      <th>1</th>\n",
       "      <td>ABW</td>\n",
       "      <td>Aruba</td>\n",
       "      <td>1961</td>\n",
       "      <td>11576.719</td>\n",
       "    </tr>\n",
       "    <tr>\n",
       "      <th>2</th>\n",
       "      <td>ABW</td>\n",
       "      <td>Aruba</td>\n",
       "      <td>1962</td>\n",
       "      <td>12713.489</td>\n",
       "    </tr>\n",
       "    <tr>\n",
       "      <th>3</th>\n",
       "      <td>ABW</td>\n",
       "      <td>Aruba</td>\n",
       "      <td>1963</td>\n",
       "      <td>12178.107</td>\n",
       "    </tr>\n",
       "    <tr>\n",
       "      <th>4</th>\n",
       "      <td>ABW</td>\n",
       "      <td>Aruba</td>\n",
       "      <td>1964</td>\n",
       "      <td>11840.743</td>\n",
       "    </tr>\n",
       "  </tbody>\n",
       "</table>\n",
       "</div>"
      ],
      "text/plain": [
       "  country_code country_name  year      value\n",
       "0          ABW        Aruba  1960  11092.675\n",
       "1          ABW        Aruba  1961  11576.719\n",
       "2          ABW        Aruba  1962  12713.489\n",
       "3          ABW        Aruba  1963  12178.107\n",
       "4          ABW        Aruba  1964  11840.743"
      ]
     },
     "execution_count": 87,
     "metadata": {},
     "output_type": "execute_result"
    }
   ],
   "source": [
    "df.head()"
   ]
  },
  {
   "cell_type": "code",
   "execution_count": 88,
   "metadata": {},
   "outputs": [
    {
     "name": "stdout",
     "output_type": "stream",
     "text": [
      "Number of rows: 13953\n",
      "Number of columns: 4\n"
     ]
    }
   ],
   "source": [
    "rows,cols = df.shape\n",
    "\n",
    "print(\"Number of rows: {}\\nNumber of columns: {}\".format(rows,cols))"
   ]
  },
  {
   "cell_type": "code",
   "execution_count": 89,
   "metadata": {},
   "outputs": [
    {
     "data": {
      "text/plain": [
       "Index(['country_code', 'country_name', 'year', 'value'], dtype='object')"
      ]
     },
     "execution_count": 89,
     "metadata": {},
     "output_type": "execute_result"
    }
   ],
   "source": [
    "df.columns"
   ]
  },
  {
   "cell_type": "code",
   "execution_count": 90,
   "metadata": {},
   "outputs": [
    {
     "data": {
      "text/plain": [
       "country_code    0\n",
       "country_name    0\n",
       "year            0\n",
       "value           0\n",
       "dtype: int64"
      ]
     },
     "execution_count": 90,
     "metadata": {},
     "output_type": "execute_result"
    }
   ],
   "source": [
    "df.isna().sum()"
   ]
  },
  {
   "cell_type": "code",
   "execution_count": 91,
   "metadata": {},
   "outputs": [],
   "source": [
    "unique_countries = df['country_code'].unique()"
   ]
  },
  {
   "cell_type": "code",
   "execution_count": 92,
   "metadata": {},
   "outputs": [
    {
     "data": {
      "text/plain": [
       "255"
      ]
     },
     "execution_count": 92,
     "metadata": {},
     "output_type": "execute_result"
    }
   ],
   "source": [
    "len(unique_countries)"
   ]
  },
  {
   "cell_type": "code",
   "execution_count": 93,
   "metadata": {},
   "outputs": [
    {
     "data": {
      "text/plain": [
       "array(['ABW', 'AFE', 'AFG', 'AFW', 'AGO', 'ALB', 'AND', 'ARB', 'ARE',\n",
       "       'ARG', 'ARM', 'ATG', 'AUS', 'AUT', 'AZE', 'BDI', 'BEL', 'BEN',\n",
       "       'BFA', 'BGD', 'BGR', 'BHR', 'BHS', 'BIH', 'BLR', 'BLZ', 'BMU',\n",
       "       'BOL', 'BRA', 'BRB', 'BRN', 'BTN', 'BWA', 'CAF', 'CAN', 'CEB',\n",
       "       'CHE', 'CHL', 'CHN', 'CIV', 'CMR', 'COD', 'COG', 'COL', 'COM',\n",
       "       'CPV', 'CRI', 'CSS', 'CUB', 'CUW', 'CYM', 'CYP', 'CZE', 'DEU',\n",
       "       'DJI', 'DMA', 'DNK', 'DOM', 'DZA', 'EAP', 'EAR', 'EAS', 'ECA',\n",
       "       'ECS', 'ECU', 'EGY', 'EMU', 'ERI', 'ESP', 'EST', 'ETH', 'EUU',\n",
       "       'FCS', 'FIN', 'FJI', 'FRA', 'FRO', 'FSM', 'GAB', 'GBR', 'GEO',\n",
       "       'GHA', 'GIB', 'GIN', 'GMB', 'GNB', 'GNQ', 'GRC', 'GRD', 'GRL',\n",
       "       'GTM', 'GUY', 'HIC', 'HKG', 'HND', 'HPC', 'HRV', 'HTI', 'HUN',\n",
       "       'IBD', 'IBT', 'IDA', 'IDB', 'IDN', 'IDX', 'IND', 'IRL', 'IRN',\n",
       "       'IRQ', 'ISL', 'ISR', 'ITA', 'JAM', 'JOR', 'JPN', 'KAZ', 'KEN',\n",
       "       'KGZ', 'KHM', 'KIR', 'KNA', 'KOR', 'KWT', 'LAC', 'LAO', 'LBN',\n",
       "       'LBR', 'LBY', 'LCA', 'LCN', 'LDC', 'LIC', 'LIE', 'LKA', 'LMC',\n",
       "       'LMY', 'LSO', 'LTE', 'LTU', 'LUX', 'LVA', 'MAC', 'MAR', 'MDA',\n",
       "       'MDG', 'MDV', 'MEA', 'MEX', 'MHL', 'MIC', 'MKD', 'MLI', 'MLT',\n",
       "       'MMR', 'MNA', 'MNE', 'MNG', 'MOZ', 'MRT', 'MUS', 'MWI', 'MYS',\n",
       "       'NAC', 'NAM', 'NCL', 'NER', 'NGA', 'NIC', 'NLD', 'NOR', 'NPL',\n",
       "       'NRU', 'NZL', 'OED', 'OMN', 'OSS', 'PAK', 'PAN', 'PER', 'PHL',\n",
       "       'PLW', 'PNG', 'POL', 'PRE', 'PRK', 'PRT', 'PRY', 'PSE', 'PSS',\n",
       "       'PST', 'PYF', 'QAT', 'ROU', 'RUS', 'RWA', 'SAS', 'SAU', 'SDN',\n",
       "       'SEN', 'SGP', 'SLB', 'SLE', 'SLV', 'SOM', 'SRB', 'SSA', 'SSD',\n",
       "       'SSF', 'SST', 'STP', 'SUR', 'SVK', 'SVN', 'SWE', 'SWZ', 'SXM',\n",
       "       'SYC', 'SYR', 'TCA', 'TCD', 'TEA', 'TEC', 'TGO', 'THA', 'TJK',\n",
       "       'TKM', 'TLA', 'TLS', 'TMN', 'TON', 'TSA', 'TSS', 'TTO', 'TUN',\n",
       "       'TUR', 'TUV', 'TZA', 'UGA', 'UKR', 'UMC', 'URY', 'USA', 'UZB',\n",
       "       'VCT', 'VEN', 'VGB', 'VNM', 'VUT', 'WLD', 'WSM', 'XKX', 'YEM',\n",
       "       'ZAF', 'ZMB', 'ZWE'], dtype=object)"
      ]
     },
     "execution_count": 93,
     "metadata": {},
     "output_type": "execute_result"
    }
   ],
   "source": [
    "unique_countries"
   ]
  },
  {
   "cell_type": "code",
   "execution_count": 94,
   "metadata": {},
   "outputs": [
    {
     "data": {
      "text/plain": [
       "array([1960, 1961, 1962, 1963, 1964, 1965, 1966, 1967, 1968, 1969, 1970,\n",
       "       1971, 1972, 1973, 1974, 1975, 1976, 1977, 1978, 1979, 1980, 1981,\n",
       "       1982, 1983, 1984, 1985, 1986, 1987, 1988, 1989, 1990, 1991, 1992,\n",
       "       1993, 1994, 1995, 1996, 1997, 1998, 1999, 2000, 2001, 2002, 2003,\n",
       "       2004, 2005, 2006, 2007, 2008, 2009, 2010, 2011, 2012, 2013, 2014,\n",
       "       2015, 2016, 2017, 2018, 2019], dtype=int64)"
      ]
     },
     "execution_count": 94,
     "metadata": {},
     "output_type": "execute_result"
    }
   ],
   "source": [
    "unique_years = df['year'].unique()\n",
    "\n",
    "unique_years"
   ]
  },
  {
   "cell_type": "code",
   "execution_count": 95,
   "metadata": {},
   "outputs": [
    {
     "name": "stdout",
     "output_type": "stream",
     "text": [
      "Mean of CO2 Emissions: 825498.3433543197\n",
      "median of CO2 emissions: 13900.0\n",
      "Standard deviation of CO2 emissions: 2788823.270974496\n"
     ]
    }
   ],
   "source": [
    "mean_of_co2_emissions = np.mean(df['value'])\n",
    "median_of_co2_emissions = np.median(df['value'])\n",
    "std_of_co2_emissions = np.std(df['value'])\n",
    "\n",
    "print(f\"Mean of CO2 Emissions: {mean_of_co2_emissions}\\nmedian of CO2 emissions: {median_of_co2_emissions}\\nStandard deviation of CO2 emissions: {std_of_co2_emissions}\")"
   ]
  },
  {
   "cell_type": "code",
   "execution_count": 96,
   "metadata": {},
   "outputs": [],
   "source": [
    "def get_parameter_of_country_co2_per_year(df:pd.DataFrame,country_code: str, year: int,func: Callable[[pd.Series],int]) -> int: \n",
    "\n",
    "    df = df[(df['country_code'] == country_code) & (df[\"year\"] == year)]\n",
    "\n",
    "    return func(df['value'])\n",
    "\n",
    "def get_parameter_of_co2_per_year(df:pd.DataFrame, year: int,func: Callable[[pd.Series],int]) -> int: \n",
    "\n",
    "    df = df[(df[\"year\"] == year)]\n",
    "    return func(df['value'])\n",
    "\n",
    "\n",
    "\n",
    "\n"
   ]
  },
  {
   "cell_type": "code",
   "execution_count": 97,
   "metadata": {},
   "outputs": [
    {
     "name": "stdout",
     "output_type": "stream",
     "text": [
      "0.0\n"
     ]
    }
   ],
   "source": [
    "print(get_parameter_of_country_co2_per_year(df=df,country_code='USA',year=1960,func=np.std))"
   ]
  },
  {
   "cell_type": "code",
   "execution_count": 98,
   "metadata": {},
   "outputs": [],
   "source": [
    "mean_of_years_dict = {\n",
    "    year: get_parameter_of_co2_per_year(df, year=year, func=np.mean) \n",
    "    for year in unique_years\n",
    "}\n"
   ]
  },
  {
   "cell_type": "code",
   "execution_count": 99,
   "metadata": {},
   "outputs": [
    {
     "data": {
      "text/plain": [
       "{1960: 379506.4144740046,\n",
       " 1961: 374035.3118242009,\n",
       " 1962: 381505.0063398048,\n",
       " 1963: 401537.0093823474,\n",
       " 1964: 411765.54175988573,\n",
       " 1965: 435207.10423407506,\n",
       " 1966: 458757.0027527678,\n",
       " 1967: 473560.4017063476,\n",
       " 1968: 499497.2688882719,\n",
       " 1969: 533679.8169571378,\n",
       " 1970: 580147.0364277061,\n",
       " 1971: 606344.634916112,\n",
       " 1972: 632715.6657126748,\n",
       " 1973: 667204.209644276,\n",
       " 1974: 673138.5261672913,\n",
       " 1975: 685908.7579536294,\n",
       " 1976: 722682.0771588641,\n",
       " 1977: 748199.5558445349,\n",
       " 1978: 780178.0237864238,\n",
       " 1979: 801543.948708541,\n",
       " 1980: 804796.8123877188,\n",
       " 1981: 786758.7206840547,\n",
       " 1982: 793344.5382590732,\n",
       " 1983: 804491.8602966211,\n",
       " 1984: 827727.4319285579,\n",
       " 1985: 866311.5010118412,\n",
       " 1986: 880349.2528735833,\n",
       " 1987: 905029.2584415575,\n",
       " 1988: 940153.2865261303,\n",
       " 1989: 952510.1357841701,\n",
       " 1990: 702520.3130837166,\n",
       " 1991: 708300.9502696596,\n",
       " 1992: 708122.6978728797,\n",
       " 1993: 712090.3474217639,\n",
       " 1994: 713394.9259562326,\n",
       " 1995: 736544.1719210037,\n",
       " 1996: 750463.0569971823,\n",
       " 1997: 761957.1347566666,\n",
       " 1998: 767017.2752966601,\n",
       " 1999: 769062.1255235284,\n",
       " 2000: 794652.4949820719,\n",
       " 2001: 811305.2254243146,\n",
       " 2002: 826801.8579761579,\n",
       " 2003: 872052.9971899325,\n",
       " 2004: 919239.8682145925,\n",
       " 2005: 960897.0806814394,\n",
       " 2006: 1000794.4679221777,\n",
       " 2007: 1043538.1551018741,\n",
       " 2008: 1053834.226221907,\n",
       " 2009: 1051740.4064332994,\n",
       " 2010: 1119297.6889228388,\n",
       " 2011: 1165438.6432409135,\n",
       " 2012: 1177141.9881458422,\n",
       " 2013: 1203350.9467449153,\n",
       " 2014: 1208977.0644950338,\n",
       " 2015: 1206570.7513950684,\n",
       " 2016: 1210105.2609245365,\n",
       " 2017: 1310145.0537451073,\n",
       " 2018: 1344521.266291196,\n",
       " 2019: 1353171.281774263}"
      ]
     },
     "execution_count": 99,
     "metadata": {},
     "output_type": "execute_result"
    }
   ],
   "source": [
    "mean_of_years_dict"
   ]
  },
  {
   "cell_type": "code",
   "execution_count": 102,
   "metadata": {},
   "outputs": [
    {
     "data": {
      "text/plain": [
       "Text(0.5, 1.0, 'CO2 emissions variation per years 1960-2020')"
      ]
     },
     "execution_count": 102,
     "metadata": {},
     "output_type": "execute_result"
    },
    {
     "data": {
      "image/png": "[encoded data removed]",
      "text/plain": [
       "<Figure size 640x480 with 1 Axes>"
      ]
     },
     "metadata": {},
     "output_type": "display_data"
    }
   ],
   "source": [
    "plt.plot(list(mean_of_years_dict.keys()),list(mean_of_years_dict.values()),marker='o',markersize=0.75,linestyle='-',linewidth=0.7)\n",
    "plt.xlabel(\"Year\")\n",
    "plt.ylabel(\"CO2 emission in Kiloton\")\n",
    "plt.title(\"CO2 emissions variation per years 1960-2020\")"
   ]
  },
  {
   "cell_type": "code",
   "execution_count": null,
   "metadata": {},
   "outputs": [],
   "source": []
  }
 ],
 "metadata": {
  "kernelspec": {
   "display_name": "Python 3",
   "language": "python",
   "name": "python3"
  },
  "language_info": {
   "codemirror_mode": {
    "name": "ipython",
    "version": 3
   },
   "file_extension": ".py",
   "mimetype": "text/x-python",
   "name": "python",
   "nbconvert_exporter": "python",
   "pygments_lexer": "ipython3",
   "version": "3.11.0"
  }
 },
 "nbformat": 4,
 "nbformat_minor": 2
}
